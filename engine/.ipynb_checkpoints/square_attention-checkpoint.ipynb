{
 "cells": [
  {
   "cell_type": "code",
   "execution_count": null,
   "metadata": {},
   "outputs": [],
   "source": [
    "%cd /src/HAI_Flask"
   ]
  },
  {
   "cell_type": "code",
   "execution_count": 2,
   "metadata": {},
   "outputs": [],
   "source": [
    "from matplotlib import pyplot as plt\n",
    "import cv2\n",
    "import numpy as np\n",
    "import tensorflow as tf\n",
    "tf.compat.v1.logging.set_verbosity(tf.compat.v1.logging.ERROR)  # will suppress all warnings\n",
    "import neuralgym as ng\n",
    "\n",
    "from engine.deepfillv1.inpaint_model import InpaintCAModel\n",
    "from engine.deepfillv1.inpaint_ops import flow_to_image_tf\n",
    "\n",
    "from engine.utils import Namespace\n",
    "from engine.utils import get_colormap_image"
   ]
  },
  {
   "cell_type": "code",
   "execution_count": 3,
   "metadata": {},
   "outputs": [
    {
     "name": "stdout",
     "output_type": "stream",
     "text": [
      "# gpu        pid  type    sm   mem   enc   dec   command\n",
      "# Idx          #   C/G     %     %     %     %   name\n",
      "    0          -     -     -     -     -     -   -              \n",
      "    1          -     -     -     -     -     -   -              \n",
      "    2          -     -     -     -     -     -   -              \n",
      "    3          -     -     -     -     -     -   -              \n",
      "    4          -     -     -     -     -     -   -              \n",
      "    5          -     -     -     -     -     -   -              \n",
      "    6          -     -     -     -     -     -   -              \n",
      "    7          -     -     -     -     -     -   -              \n",
      "\n",
      "Set env: CUDA_VISIBLE_DEVICES=[0].\n"
     ]
    },
    {
     "data": {
      "text/plain": [
       "[0]"
      ]
     },
     "execution_count": 3,
     "metadata": {},
     "output_type": "execute_result"
    }
   ],
   "source": [
    "prefix = 'engine/testfiles'\n",
    "args = Namespace(image = 'engine/input_image.png',\n",
    "                 mask = 'engine/input_mask.png',\n",
    "                 output =  prefix + '/output.png',\n",
    "                 output_mask = prefix + '/output_mask.png',\n",
    "                 output_coarse =  prefix + '/output_coarse.png',\n",
    "                 output_fine =  prefix + '/output_fine.png',\n",
    "                 output_flow =  prefix + '/output_flow.png',\n",
    "                 output_modulated =  prefix + '/output_modulated.png',\n",
    "                 flow_modulated =  prefix + '/output_flow_modulated.png',\n",
    "                 checkpoint_dir = 'engine/deepfillv1/model_logs')\n",
    "ng.get_gpus(1)"
   ]
  },
  {
   "cell_type": "code",
   "execution_count": 10,
   "metadata": {},
   "outputs": [
    {
     "name": "stdout",
     "output_type": "stream",
     "text": [
      "Shape of image: (296, 560, 3)\n",
      "Shape of mask: (296, 560, 3)\n",
      "Shape of downsampled mask: (37, 70, 3)\n",
      "Shape of restored mask: (296, 560, 3)\n",
      "Shape of model input: (1, 296, 1120, 3)\n"
     ]
    },
    {
     "data": {
      "image/png": "[encoded data removed]",
      "text/plain": [
       "<Figure size 1440x720 with 3 Axes>"
      ]
     },
     "metadata": {
      "needs_background": "light"
     },
     "output_type": "display_data"
    }
   ],
   "source": [
    "tf.reset_default_graph()\n",
    "model = InpaintCAModel()\n",
    "image = cv2.imread(args.image)\n",
    "mask0 = cv2.imread(args.mask)\n",
    "\n",
    "assert image.shape == mask0.shape\n",
    "h0, w0, _ = image.shape\n",
    "grid = 8\n",
    "image = image[:h0//grid*grid, :w0//grid*grid, :]\n",
    "mask0 = mask0[:h0//grid*grid, :w0//grid*grid, :]\n",
    "h, w, _ = image.shape\n",
    "print('Shape of image: {}'.format(image.shape))\n",
    "print('Shape of mask: {}'.format(mask0.shape))\n",
    "\n",
    "# quantize mask\n",
    "dratio = 8\n",
    "dw, dh = w // dratio, h // dratio\n",
    "mask_downsampled = cv2.resize(mask0, dsize=(dw, dh), interpolation=cv2.INTER_NEAREST)\n",
    "mask = cv2.resize(mask_downsampled, dsize=(w, h), interpolation=cv2.INTER_NEAREST)\n",
    "print('Shape of downsampled mask: {}'.format(mask_downsampled.shape))\n",
    "print('Shape of restored mask: {}'.format(mask.shape))\n",
    "cv2.imwrite(args.output_mask, mask[:, :, ::-1])\n",
    "\n",
    "image = np.expand_dims(image, 0)\n",
    "mask = np.expand_dims(mask, 0)\n",
    "input_image = np.concatenate([image, mask], axis=2)\n",
    "print('Shape of model input: {}'.format(input_image.shape))\n",
    "\n",
    "fig = plt.figure(figsize=(20, 10))\n",
    "ax = fig.add_subplot(221)\n",
    "plt.imshow(mask0.astype(np.float) / 255)\n",
    "ax.set_aspect('equal')\n",
    "ax = fig.add_subplot(222)\n",
    "plt.imshow(mask[0].astype(np.float) / 255)\n",
    "ax.set_aspect('equal')\n",
    "ax = fig.add_subplot(212)\n",
    "err = (mask0 - mask[0]).astype(np.float) / 255\n",
    "err = (err ** 2).sum(-1) ** 0.5\n",
    "plt.imshow(err)\n",
    "ax.set_aspect('equal')"
   ]
  },
  {
   "cell_type": "code",
   "execution_count": 11,
   "metadata": {},
   "outputs": [
    {
     "name": "stdout",
     "output_type": "stream",
     "text": [
      "Called: build_server_graph()\n",
      "Shape of masked images: (1, 296, 560, 3)\n",
      "Shape of masks: (1, 296, 560, 1)\n",
      "Called: build_inpaint_net()\n",
      "Shape of first-stage input: (1, 296, 560, 5)\n",
      "Shape of first-stage output: (1, 296, 560, 3)\n",
      "Shape of second-stage input: (1, 296, 560, 3)\n",
      "Shape of second-stage conv branch output: (1, 74, 140, 128)\n",
      "Shape of contextual attention input: (TensorShape([Dimension(1), Dimension(74), Dimension(140), Dimension(128)]), TensorShape([Dimension(1), Dimension(74), Dimension(140), Dimension(1)]))\n",
      "Called: contextual_attention()\n",
      "Shape of foreground features: (1, 74, 140, 128)\n",
      "Shape of background features: (1, 74, 140, 128)\n",
      "Shape of masks: (1, 74, 140, 1)\n",
      "Shape of background patches (raw_w): (1, 4, 4, 128, 2590)\n",
      "Shape of resized foreground features: (1, 37, 70, 128)\n",
      "Shape of resized background features: (1, 37, 70, 128)\n",
      "Shape of resized masks: (1, 37, 70, 1)\n",
      "Shape of downscaled background patches (w): (1, 37, 70, 1152) (ksize 3, stride 1)\n",
      "Shape of downscaled background patches (w): (1, 3, 3, 128, 2590)\n",
      "Shape of mask patches: (1, 1, 1, 2590)\n",
      "[1/1]: Shapes fg (1, 37, 70, 128), bg (1, 3, 3, 128, 2590)/(1, 4, 4, 128, 2590)\n",
      "Predict attention\n",
      "[1/1]: Shape of convolved features (1, 37, 70, 2590)\n",
      "[1/1]: Shape of attention coefficients (1, 74, 140, 128)\n",
      "[1/1]: Shape of patch features (1, 4, 4, 128, 2590)\n",
      "[1/1]: Shape of patch center features (4, 4, 128, 2590)\n",
      "[1/1]: Shape of attended features (1, 74, 140, 128)\n",
      "Shape of contextual attention output: (1, 74, 140, 128)\n",
      "Shape of second-stage att branch output: (1, 74, 140, 128)\n",
      "Shape of second-stage output: (1, 296, 560, 3)\n",
      "Shape of coarse output: (1, 296, 560, 3)\n",
      "Shape of fine output: (1, 296, 560, 3)\n",
      "Shape of attention values: (1, 37, 70, 2590)\n",
      "Shape of attention colormap: (1, 74, 140, 3)\n",
      "Model loaded.\n",
      "Shape of model output: (1, 296, 560, 3)\n",
      "Shape of model attention (colored): (296, 560, 3)\n",
      "Shape of model attention (full): (1, 37, 70, 2590)\n",
      "Done\n"
     ]
    }
   ],
   "source": [
    "sess_config = tf.ConfigProto()\n",
    "sess_config.gpu_options.allow_growth = True\n",
    "with tf.Session(config=sess_config) as sess:\n",
    "    input_image = tf.constant(input_image, dtype=tf.float32)\n",
    "    output, flow, attention = model.build_server_graph(input_image)\n",
    "    def toimg(t):\n",
    "        t = (t + 1.) * 127.5\n",
    "        t = tf.reverse(t, [-1])\n",
    "        t = tf.saturate_cast(t, tf.uint8)\n",
    "        return t\n",
    "    output = toimg(output)\n",
    "    flow = toimg(flow)\n",
    "    \n",
    "    # load pretrained model\n",
    "    vars_list = tf.get_collection(tf.GraphKeys.GLOBAL_VARIABLES)\n",
    "    assign_ops = []\n",
    "    for var in vars_list:\n",
    "        vname = var.name\n",
    "        from_name = vname\n",
    "        var_value = tf.contrib.framework.load_variable(args.checkpoint_dir, from_name)\n",
    "        assign_ops.append(tf.assign(var, var_value))\n",
    "    sess.run(assign_ops)\n",
    "    print('Model loaded.')\n",
    "    result, flow, attention = sess.run(output), sess.run(flow), sess.run(attention)\n",
    "    \n",
    "    result = np.array(result)\n",
    "    result, coarse, fine = np.split(result, 3, axis=2)\n",
    "    cv2.imwrite(args.output, result[0][:, :, ::-1])\n",
    "    cv2.imwrite(args.output_coarse, coarse[0][:, :, ::-1])\n",
    "    cv2.imwrite(args.output_fine, fine[0][:, :, ::-1])\n",
    "    print('Shape of model output: {}'.format(result.shape))\n",
    "    \n",
    "    flow = np.array(flow)\n",
    "    flow = cv2.resize(flow[0][:, :, ::-1], dsize=(w, h), interpolation=cv2.INTER_NEAREST)\n",
    "    cv2.imwrite(args.output_flow, flow)\n",
    "    print('Shape of model attention (colored): {}'.format(flow.shape))\n",
    "    \n",
    "    attention = np.array(attention)\n",
    "    print('Shape of model attention (full): {}'.format(attention.shape))\n",
    "    \n",
    "print('Done')"
   ]
  },
  {
   "cell_type": "code",
   "execution_count": 9,
   "metadata": {},
   "outputs": [
    {
     "data": {
      "image/png": "[encoded data removed]",
      "text/plain": [
       "<Figure size 1440x1440 with 1 Axes>"
      ]
     },
     "metadata": {
      "needs_background": "light"
     },
     "output_type": "display_data"
    }
   ],
   "source": [
    "attention = np.array(attention)\n",
    "bs, height, width, hw = attention.shape\n",
    "assert height * width == hw\n",
    "att_reshaped = np.reshape(attention, [bs, height, width, height, width])\n",
    "att_mask = cv2.resize(mask[0][..., -1], dsize=(width, height), interpolation=cv2.INTER_NEAREST)\n",
    "hidx, widx = np.nonzero(att_mask)\n",
    "hpos, wpos = hidx[100], widx[100]\n",
    "\n",
    "# mask and show maximum\n",
    "att_img = att_reshaped[0][hpos, wpos]\n",
    "att_img = att_img * (1 - att_mask.astype(np.int32))\n",
    "att_img = (att_img / att_img.max() * 255).astype(np.uint8)\n",
    "# overlay mask\n",
    "att_img = att_img * (1 - att_mask) + 200 * att_mask\n",
    "# cast to RGB\n",
    "att_img = np.tile(np.reshape(att_img, [height, width, 1]), [1, 1, 3])\n",
    "# crosshair\n",
    "att_img[hpos, wpos-1:wpos+2, 0] = 255\n",
    "att_img[hpos-1:hpos+2, wpos, 0] = 255\n",
    "att_img[0, :, :] = 255\n",
    "att_img[-1, :, :] = 255\n",
    "att_img[:, 0, :] = 255\n",
    "att_img[:, -1, :] = 255\n",
    "# show\n",
    "fig = plt.figure(figsize=(20, 20))\n",
    "ax = fig.add_subplot(111)\n",
    "plt.imshow(att_img.astype(np.float) / 255)\n",
    "ax.set_aspect('equal')\n",
    "#cv2.imwrite('test_attention.jpg', att_img[:, :, ::-1])"
   ]
  },
  {
   "cell_type": "code",
   "execution_count": null,
   "metadata": {},
   "outputs": [],
   "source": []
  }
 ],
 "metadata": {
  "kernelspec": {
   "display_name": "Python 3",
   "language": "python",
   "name": "python3"
  },
  "language_info": {
   "codemirror_mode": {
    "name": "ipython",
    "version": 3
   },
   "file_extension": ".py",
   "mimetype": "text/x-python",
   "name": "python",
   "nbconvert_exporter": "python",
   "pygments_lexer": "ipython3",
   "version": "3.6.9"
  }
 },
 "nbformat": 4,
 "nbformat_minor": 4
}
