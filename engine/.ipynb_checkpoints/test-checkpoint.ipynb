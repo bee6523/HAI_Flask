{
 "cells": [
  {
   "cell_type": "code",
   "execution_count": 1,
   "metadata": {},
   "outputs": [],
   "source": [
    "import os\n",
    "os.environ['CUDA_VISIBLE_DEVICES'] = ''\n",
    "\n",
    "from __init__ import get_ref_colormap, inpaint, controlled_inpaint"
   ]
  },
  {
   "cell_type": "code",
   "execution_count": 2,
   "metadata": {},
   "outputs": [],
   "source": [
    "colormap = get_ref_colormap(width=170, height=128, out_path='colorpalette.jpg')"
   ]
  },
  {
   "cell_type": "code",
   "execution_count": 3,
   "metadata": {},
   "outputs": [
    {
     "name": "stdout",
     "output_type": "stream",
     "text": [
      "Shape of image: (512, 680, 3)\n",
      "Shape of model input: (1, 512, 1360, 3)\n",
      "Called: build_server_graph()\n",
      "Shape of masked images: (1, 512, 680, 3)\n",
      "Shape of masks: (1, 512, 680, 1)\n",
      "Called: build_inpaint_net()\n",
      "Shape of first-stage input: (1, 512, 680, 5)\n",
      "Shape of first-stage output: (1, 512, 680, 3)\n",
      "Shape of second-stage input: (1, 512, 680, 3)\n",
      "Shape of second-stage conv branch output: (1, 128, 170, 128)\n",
      "Shape of contextual attention input: (TensorShape([Dimension(1), Dimension(128), Dimension(170), Dimension(128)]), TensorShape([Dimension(1), Dimension(128), Dimension(170), Dimension(1)]))\n",
      "Called: contextual_attention()\n",
      "Shape of foreground features: (1, 128, 170, 128)\n",
      "Shape of background features: (1, 128, 170, 128)\n",
      "Shape of masks: (1, 128, 170, 1)\n",
      "Shape of background patches (raw_w): (1, 4, 4, 128, 5440)\n",
      "Shape of resized foreground features: (1, 64, 85, 128)\n",
      "Shape of resized background features: (1, 64, 85, 128)\n",
      "Shape of resized masks: (1, 64, 85, 1)\n",
      "Shape of downscaled background patches (w): (1, 64, 85, 1152) (ksize 3, stride 1)\n",
      "Shape of downscaled background patches (w): (1, 3, 3, 128, 5440)\n",
      "Shape of mask patches: (1, 1, 1, 5440)\n",
      "[1/1]: Shapes fg (1, 64, 85, 128), bg (1, 3, 3, 128, 5440)/(1, 4, 4, 128, 5440)\n",
      "Predict attention\n",
      "[1/1]: Shape of convolved features (1, 64, 85, 5440)\n",
      "[1/1]: Shape of attention coefficients (1, 128, 170, 128)\n",
      "[1/1]: Shape of patch features (1, 4, 4, 128, 5440)\n",
      "[1/1]: Shape of patch center features (4, 4, 128, 5440)\n",
      "[1/1]: Shape of attended features (1, 128, 170, 128)\n",
      "Shape of contextual attention output: (1, 128, 170, 128)\n",
      "Shape of second-stage att branch output: (1, 128, 170, 128)\n",
      "Shape of second-stage output: (1, 512, 680, 3)\n",
      "Shape of coarse output: (1, 512, 680, 3)\n",
      "Shape of fine output: (1, 512, 680, 3)\n",
      "Shape of attention values: (1, 64, 85, 5440)\n",
      "Shape of attention colormap: (1, 512, 680, 3)\n",
      "Model loaded.\n",
      "Shape of model output: (1, 512, 2720, 3)\n",
      "Done\n"
     ]
    }
   ],
   "source": [
    "output = inpaint(image_path='deepfillv1/examples/places2/sunset_input.png',\n",
    "                 mask_path='deepfillv1/examples/places2/sunset_mask.png',\n",
    "                 out_image_path='./output.png',\n",
    "                 out_att_path='./output_att.png')"
   ]
  },
  {
   "cell_type": "code",
   "execution_count": 4,
   "metadata": {},
   "outputs": [
    {
     "name": "stdout",
     "output_type": "stream",
     "text": [
      "Shape of image: (512, 680, 3)\n",
      "Shape of model input: (1, 512, 1360, 3)\n",
      "Shape of att colormap input: (1, 512, 680, 3)\n",
      "Shape of att values: (1, 64, 85, 5440)\n",
      "Called: build_server_graph()\n",
      "Shape of masked images: (1, 512, 680, 3)\n",
      "Shape of masks: (1, 512, 680, 1)\n",
      "Shape of attention values: (1, 64, 85, 5440)\n",
      "Called: build_inpaint_net()\n",
      "Shape of first-stage input: (1, 512, 680, 5)\n",
      "Shape of first-stage output: (1, 512, 680, 3)\n",
      "Shape of second-stage input: (1, 512, 680, 3)\n",
      "Shape of second-stage conv branch output: (1, 128, 170, 128)\n",
      "Shape of contextual attention input: (TensorShape([Dimension(1), Dimension(128), Dimension(170), Dimension(128)]), TensorShape([Dimension(1), Dimension(128), Dimension(170), Dimension(1)]))\n",
      "Called: contextual_attention()\n",
      "Shape of foreground features: (1, 128, 170, 128)\n",
      "Shape of background features: (1, 128, 170, 128)\n",
      "Shape of masks: (1, 128, 170, 1)\n",
      "Shape of given attention values: (1, 64, 85, 5440)\n",
      "Shape of background patches (raw_w): (1, 4, 4, 128, 5440)\n",
      "Shape of resized foreground features: (1, 64, 85, 128)\n",
      "Shape of resized background features: (1, 64, 85, 128)\n",
      "Shape of resized masks: (1, 64, 85, 1)\n",
      "Shape of downscaled background patches (w): (1, 64, 85, 1152) (ksize 3, stride 1)\n",
      "Shape of downscaled background patches (w): (1, 3, 3, 128, 5440)\n",
      "Shape of mask patches: (1, 1, 1, 5440)\n",
      "[1/1]: Shapes fg (1, 64, 85, 128), bg (1, 3, 3, 128, 5440)/(1, 4, 4, 128, 5440)\n",
      "[1/1]: Shapes fg (1, 64, 85, 128), bg (1, 3, 3, 128, 5440)/(1, 4, 4, 128, 5440), att (1, 64, 85, 5440)\n",
      "Use modulated attention\n",
      "[1/1]: Shape of attention coefficients (1, 64, 85, 5440)\n",
      "[1/1]: Shape of patch features (1, 4, 4, 128, 5440)\n",
      "[1/1]: Shape of patch center features (4, 4, 128, 5440)\n",
      "[1/1]: Shape of attended features (1, 128, 170, 128)\n",
      "Shape of contextual attention output: (1, 128, 170, 128)\n",
      "Shape of second-stage att branch output: (1, 128, 170, 128)\n",
      "Shape of second-stage output: (1, 512, 680, 3)\n",
      "Shape of coarse output: (1, 512, 680, 3)\n",
      "Shape of fine output: (1, 512, 680, 3)\n",
      "Shape of attention values: (1, 64, 85, 5440)\n",
      "Shape of attention colormap: (1, 512, 680, 3)\n",
      "Model loaded.\n",
      "Shape of model output: (1, 512, 2720, 3)\n",
      "Done\n"
     ]
    }
   ],
   "source": [
    "output = controlled_inpaint(image_path='deepfillv1/examples/places2/sunset_input.png',\n",
    "                            mask_path='deepfillv1/examples/places2/sunset_mask.png',\n",
    "                            att_path='./output_att.png',\n",
    "                            out_image_path='./output_controlled.png')"
   ]
  },
  {
   "cell_type": "code",
   "execution_count": null,
   "metadata": {},
   "outputs": [],
   "source": []
  }
 ],
 "metadata": {
  "kernelspec": {
   "display_name": "Python 3",
   "language": "python",
   "name": "python3"
  },
  "language_info": {
   "codemirror_mode": {
    "name": "ipython",
    "version": 3
   },
   "file_extension": ".py",
   "mimetype": "text/x-python",
   "name": "python",
   "nbconvert_exporter": "python",
   "pygments_lexer": "ipython3",
   "version": "3.6.9"
  }
 },
 "nbformat": 4,
 "nbformat_minor": 4
}
