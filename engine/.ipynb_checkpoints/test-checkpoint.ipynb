{
 "cells": [
  {
   "cell_type": "code",
   "execution_count": 1,
   "metadata": {},
   "outputs": [
    {
     "name": "stdout",
     "output_type": "stream",
     "text": [
      "/src/HAI_Flask\n",
      "WARNING:tensorflow:\n",
      "The TensorFlow contrib module will not be included in TensorFlow 2.0.\n",
      "For more information, please see:\n",
      "  * https://github.com/tensorflow/community/blob/master/rfcs/20180907-contrib-sunset.md\n",
      "  * https://github.com/tensorflow/addons\n",
      "  * https://github.com/tensorflow/io (for I/O related ops)\n",
      "If you depend on functionality not listed there, please file an issue.\n",
      "\n",
      "WARNING:tensorflow:From /usr/local/lib/python3.6/dist-packages/neuralgym/ops/layers.py:142: The name tf.image.resize_bilinear is deprecated. Please use tf.compat.v1.image.resize_bilinear instead.\n",
      "\n",
      "WARNING:tensorflow:From /usr/local/lib/python3.6/dist-packages/neuralgym/callbacks/npz_model_loader.py:31: The name tf.get_variable_scope is deprecated. Please use tf.compat.v1.get_variable_scope instead.\n",
      "\n",
      "WARNING:tensorflow:From /usr/local/lib/python3.6/dist-packages/neuralgym/ops/gan_ops.py:138: The name tf.layers.Conv2D is deprecated. Please use tf.compat.v1.layers.Conv2D instead.\n",
      "\n"
     ]
    }
   ],
   "source": [
    "import os\n",
    "os.environ['CUDA_VISIBLE_DEVICES'] = ''\n",
    "%cd /src/HAI_Flask\n",
    "from engine import get_ref_colormap, inpaint, controlled_inpaint"
   ]
  },
  {
   "cell_type": "code",
   "execution_count": 2,
   "metadata": {},
   "outputs": [
    {
     "name": "stdout",
     "output_type": "stream",
     "text": [
      "WARNING:tensorflow:From /src/HAI_Flask/engine/__init__.py:36: The name tf.reset_default_graph is deprecated. Please use tf.compat.v1.reset_default_graph instead.\n",
      "\n",
      "Shape of image: (280, 560, 3)\n",
      "Shape of quantized mask: (280, 560, 3)\n",
      "Shape of model input: (1, 280, 1120, 3)\n",
      "WARNING:tensorflow:From /src/HAI_Flask/engine/__init__.py:56: The name tf.ConfigProto is deprecated. Please use tf.compat.v1.ConfigProto instead.\n",
      "\n",
      "WARNING:tensorflow:From /src/HAI_Flask/engine/__init__.py:58: The name tf.Session is deprecated. Please use tf.compat.v1.Session instead.\n",
      "\n",
      "Called: build_server_graph()\n",
      "Shape of masked images: (1, 280, 560, 3)\n",
      "Shape of masks: (1, 280, 560, 1)\n",
      "Called: build_inpaint_net()\n",
      "Shape of first-stage input: (1, 280, 560, 5)\n",
      "WARNING:tensorflow:From /src/HAI_Flask/engine/deepfillv1/inpaint_model.py:50: The name tf.variable_scope is deprecated. Please use tf.compat.v1.variable_scope instead.\n",
      "\n",
      "WARNING:tensorflow:From /src/HAI_Flask/engine/deepfillv1/inpaint_ops.py:54: conv2d (from tensorflow.python.layers.convolutional) is deprecated and will be removed in a future version.\n",
      "Instructions for updating:\n",
      "Use `tf.keras.layers.Conv2D` instead.\n",
      "WARNING:tensorflow:From /usr/local/lib/python3.6/dist-packages/tensorflow_core/python/layers/convolutional.py:424: Layer.apply (from tensorflow.python.keras.engine.base_layer) is deprecated and will be removed in a future version.\n",
      "Instructions for updating:\n",
      "Please use `layer.__call__` method instead.\n",
      "WARNING:tensorflow:From /src/HAI_Flask/engine/deepfillv1/inpaint_ops.py:189: The name tf.image.resize_nearest_neighbor is deprecated. Please use tf.compat.v1.image.resize_nearest_neighbor instead.\n",
      "\n",
      "Shape of first-stage output: (1, 280, 560, 3)\n",
      "Shape of second-stage input: (1, 280, 560, 3)\n",
      "Shape of second-stage conv branch output: (1, 70, 140, 128)\n",
      "Shape of contextual attention input: (TensorShape([Dimension(1), Dimension(70), Dimension(140), Dimension(128)]), TensorShape([Dimension(1), Dimension(70), Dimension(140), Dimension(1)]))\n",
      "Called: contextual_attention()\n",
      "Shape of foreground features: (1, 70, 140, 128)\n",
      "Shape of background features: (1, 70, 140, 128)\n",
      "Shape of masks: (1, 70, 140, 1)\n",
      "WARNING:tensorflow:From /src/HAI_Flask/engine/deepfillv1/inpaint_ops.py:263: calling extract_image_patches (from tensorflow.python.ops.array_ops) with ksizes is deprecated and will be removed in a future version.\n",
      "Instructions for updating:\n",
      "ksizes is deprecated, use sizes instead\n",
      "Shape of background patches (raw_w): (1, 4, 4, 128, 2450)\n",
      "Shape of resized foreground features: (1, 35, 70, 128)\n",
      "Shape of resized background features: (1, 35, 70, 128)\n",
      "Shape of resized masks: (1, 35, 70, 1)\n",
      "Shape of downscaled background patches (w): (1, 35, 70, 1152) (ksize 3, stride 1)\n",
      "Shape of downscaled background patches (w): (1, 3, 3, 128, 2450)\n",
      "Shape of mask patches: (1, 1, 1, 2450)\n",
      "[1/1]: Shapes fg (1, 35, 70, 128), bg (1, 3, 3, 128, 2450)/(1, 4, 4, 128, 2450)\n",
      "Predict attention\n",
      "[1/1]: Shape of convolved features (1, 35, 70, 2450)\n",
      "[1/1]: Shape of attention coefficients (1, 70, 140, 128)\n",
      "[1/1]: Shape of patch features (1, 4, 4, 128, 2450)\n",
      "[1/1]: Shape of patch center features (4, 4, 128, 2450)\n",
      "[1/1]: Shape of attended features (1, 70, 140, 128)\n",
      "WARNING:tensorflow:From /src/HAI_Flask/engine/deepfillv1/inpaint_ops.py:546: py_func (from tensorflow.python.ops.script_ops) is deprecated and will be removed in a future version.\n",
      "Instructions for updating:\n",
      "tf.py_func is deprecated in TF V2. Instead, there are two\n",
      "    options available in V2.\n",
      "    - tf.py_function takes a python function which manipulates tf eager\n",
      "    tensors instead of numpy arrays. It's easy to convert a tf eager tensor to\n",
      "    an ndarray (just call tensor.numpy()) but having access to eager tensors\n",
      "    means `tf.py_function`s can use accelerators such as GPUs as well as\n",
      "    being differentiable using a gradient tape.\n",
      "    - tf.numpy_function maintains the semantics of the deprecated tf.py_func\n",
      "    (it is not differentiable, and manipulates numpy arrays). It drops the\n",
      "    stateful argument making all functions stateful.\n",
      "    \n",
      "Shape of contextual attention output: (1, 70, 140, 128)\n",
      "Shape of second-stage att branch output: (1, 70, 140, 128)\n",
      "Shape of second-stage output: (1, 280, 560, 3)\n",
      "Shape of coarse output: (1, 280, 560, 3)\n",
      "Shape of fine output: (1, 280, 560, 3)\n",
      "Shape of attention values: (1, 35, 70, 2450)\n",
      "Shape of attention colormap: (1, 70, 140, 3)\n",
      "WARNING:tensorflow:From /src/HAI_Flask/engine/__init__.py:69: The name tf.get_collection is deprecated. Please use tf.compat.v1.get_collection instead.\n",
      "\n",
      "WARNING:tensorflow:From /src/HAI_Flask/engine/__init__.py:69: The name tf.GraphKeys is deprecated. Please use tf.compat.v1.GraphKeys instead.\n",
      "\n",
      "WARNING:tensorflow:From /src/HAI_Flask/engine/__init__.py:75: The name tf.assign is deprecated. Please use tf.compat.v1.assign instead.\n",
      "\n",
      "Model loaded.\n",
      "Shape of model output: (1, 280, 560, 3)\n",
      "Shape of model attention (colored): (280, 560, 3)\n",
      "Shape of model attention (raw): (1, 35, 70, 2450)\n",
      "Done\n"
     ]
    }
   ],
   "source": [
    "output = inpaint(image_path='engine/input_image.png',\n",
    "                 mask_path='engine/input_mask.png',\n",
    "                 out_image_path='./output.png',\n",
    "                 out_att_path='./output_att.png',\n",
    "                 out_cache_path='./output_att_cache')"
   ]
  },
  {
   "cell_type": "code",
   "execution_count": 2,
   "metadata": {},
   "outputs": [
    {
     "name": "stdout",
     "output_type": "stream",
     "text": [
      "WARNING:tensorflow:From /src/HAI_Flask/engine/__init__.py:100: The name tf.reset_default_graph is deprecated. Please use tf.compat.v1.reset_default_graph instead.\n",
      "\n"
     ]
    },
    {
     "ename": "FileNotFoundError",
     "evalue": "[Errno 2] No such file or directory: './output_att_cache.pth'",
     "output_type": "error",
     "traceback": [
      "\u001b[0;31m---------------------------------------------------------------------------\u001b[0m",
      "\u001b[0;31mFileNotFoundError\u001b[0m                         Traceback (most recent call last)",
      "\u001b[0;32m<ipython-input-2-a75639f111e3>\u001b[0m in \u001b[0;36m<module>\u001b[0;34m\u001b[0m\n\u001b[1;32m      3\u001b[0m                             \u001b[0matt_path\u001b[0m\u001b[0;34m=\u001b[0m\u001b[0;34m'./output_att.png'\u001b[0m\u001b[0;34m,\u001b[0m\u001b[0;34m\u001b[0m\u001b[0;34m\u001b[0m\u001b[0m\n\u001b[1;32m      4\u001b[0m                             \u001b[0mref_att_path\u001b[0m\u001b[0;34m=\u001b[0m\u001b[0;34m'./output_att.png'\u001b[0m\u001b[0;34m,\u001b[0m \u001b[0mcache_path\u001b[0m\u001b[0;34m=\u001b[0m\u001b[0;34m'./output_att_cache.pth'\u001b[0m\u001b[0;34m,\u001b[0m\u001b[0;34m\u001b[0m\u001b[0;34m\u001b[0m\u001b[0m\n\u001b[0;32m----> 5\u001b[0;31m                             out_image_path='./output_controlled_gaussian.png')\n\u001b[0m",
      "\u001b[0;32m/src/HAI_Flask/engine/__init__.py\u001b[0m in \u001b[0;36mcontrolled_inpaint\u001b[0;34m(image_path, mask_path, att_path, ref_att_path, cache_path, out_image_path, checkpoint_dir)\u001b[0m\n\u001b[1;32m    104\u001b[0m     \u001b[0mflow\u001b[0m \u001b[0;34m=\u001b[0m \u001b[0mcv2\u001b[0m\u001b[0;34m.\u001b[0m\u001b[0mimread\u001b[0m\u001b[0;34m(\u001b[0m\u001b[0matt_path\u001b[0m\u001b[0;34m)\u001b[0m\u001b[0;34m\u001b[0m\u001b[0;34m\u001b[0m\u001b[0m\n\u001b[1;32m    105\u001b[0m     \u001b[0mref_flow\u001b[0m \u001b[0;34m=\u001b[0m \u001b[0mcv2\u001b[0m\u001b[0;34m.\u001b[0m\u001b[0mimread\u001b[0m\u001b[0;34m(\u001b[0m\u001b[0mref_att_path\u001b[0m\u001b[0;34m)\u001b[0m\u001b[0;34m\u001b[0m\u001b[0;34m\u001b[0m\u001b[0m\n\u001b[0;32m--> 106\u001b[0;31m     \u001b[0mcached_attention\u001b[0m \u001b[0;34m=\u001b[0m \u001b[0mnp\u001b[0m\u001b[0;34m.\u001b[0m\u001b[0mload\u001b[0m\u001b[0;34m(\u001b[0m\u001b[0mcache_path\u001b[0m\u001b[0;34m)\u001b[0m\u001b[0;34m\u001b[0m\u001b[0;34m\u001b[0m\u001b[0m\n\u001b[0m\u001b[1;32m    107\u001b[0m     \u001b[0mh\u001b[0m\u001b[0;34m,\u001b[0m \u001b[0mw\u001b[0m\u001b[0;34m,\u001b[0m \u001b[0m_\u001b[0m \u001b[0;34m=\u001b[0m \u001b[0mimage\u001b[0m\u001b[0;34m.\u001b[0m\u001b[0mshape\u001b[0m\u001b[0;34m\u001b[0m\u001b[0;34m\u001b[0m\u001b[0m\n\u001b[1;32m    108\u001b[0m     \u001b[0;32mif\u001b[0m \u001b[0;32mnot\u001b[0m \u001b[0;34m(\u001b[0m\u001b[0mh\u001b[0m\u001b[0;34m//\u001b[0m\u001b[0mGRID\u001b[0m\u001b[0;34m*\u001b[0m\u001b[0mGRID\u001b[0m \u001b[0;34m==\u001b[0m \u001b[0mh\u001b[0m \u001b[0;32mand\u001b[0m \u001b[0mw\u001b[0m\u001b[0;34m//\u001b[0m\u001b[0mGRID\u001b[0m\u001b[0;34m*\u001b[0m\u001b[0mGRID\u001b[0m \u001b[0;34m==\u001b[0m \u001b[0mw\u001b[0m\u001b[0;34m)\u001b[0m\u001b[0;34m:\u001b[0m\u001b[0;34m\u001b[0m\u001b[0;34m\u001b[0m\u001b[0m\n",
      "\u001b[0;32m/usr/local/lib/python3.6/dist-packages/numpy/lib/npyio.py\u001b[0m in \u001b[0;36mload\u001b[0;34m(file, mmap_mode, allow_pickle, fix_imports, encoding)\u001b[0m\n\u001b[1;32m    426\u001b[0m         \u001b[0mown_fid\u001b[0m \u001b[0;34m=\u001b[0m \u001b[0;32mFalse\u001b[0m\u001b[0;34m\u001b[0m\u001b[0;34m\u001b[0m\u001b[0m\n\u001b[1;32m    427\u001b[0m     \u001b[0;32melse\u001b[0m\u001b[0;34m:\u001b[0m\u001b[0;34m\u001b[0m\u001b[0;34m\u001b[0m\u001b[0m\n\u001b[0;32m--> 428\u001b[0;31m         \u001b[0mfid\u001b[0m \u001b[0;34m=\u001b[0m \u001b[0mopen\u001b[0m\u001b[0;34m(\u001b[0m\u001b[0mos_fspath\u001b[0m\u001b[0;34m(\u001b[0m\u001b[0mfile\u001b[0m\u001b[0;34m)\u001b[0m\u001b[0;34m,\u001b[0m \u001b[0;34m\"rb\"\u001b[0m\u001b[0;34m)\u001b[0m\u001b[0;34m\u001b[0m\u001b[0;34m\u001b[0m\u001b[0m\n\u001b[0m\u001b[1;32m    429\u001b[0m         \u001b[0mown_fid\u001b[0m \u001b[0;34m=\u001b[0m \u001b[0;32mTrue\u001b[0m\u001b[0;34m\u001b[0m\u001b[0;34m\u001b[0m\u001b[0m\n\u001b[1;32m    430\u001b[0m \u001b[0;34m\u001b[0m\u001b[0m\n",
      "\u001b[0;31mFileNotFoundError\u001b[0m: [Errno 2] No such file or directory: './output_att_cache.pth'"
     ]
    }
   ],
   "source": [
    "output = controlled_inpaint(image_path='engine/input_image.png',\n",
    "                            mask_path='engine/input_mask.png',\n",
    "                            att_path='./output_att.png',\n",
    "                            cache_path='./output_att_cache',\n",
    "                            ref_att_path='./output_att.png',\n",
    "                            out_image_path='./output_controlled_gaussian.png')"
   ]
  },
  {
   "cell_type": "code",
   "execution_count": null,
   "metadata": {},
   "outputs": [],
   "source": []
  }
 ],
 "metadata": {
  "kernelspec": {
   "display_name": "Python 3",
   "language": "python",
   "name": "python3"
  },
  "language_info": {
   "codemirror_mode": {
    "name": "ipython",
    "version": 3
   },
   "file_extension": ".py",
   "mimetype": "text/x-python",
   "name": "python",
   "nbconvert_exporter": "python",
   "pygments_lexer": "ipython3",
   "version": "3.6.9"
  }
 },
 "nbformat": 4,
 "nbformat_minor": 4
}
