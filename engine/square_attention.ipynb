{
 "cells": [
  {
   "cell_type": "code",
   "execution_count": 1,
   "metadata": {},
   "outputs": [
    {
     "name": "stdout",
     "output_type": "stream",
     "text": [
      "/src/HAI_Flask\n"
     ]
    }
   ],
   "source": [
    "%cd /src/HAI_Flask"
   ]
  },
  {
   "cell_type": "code",
   "execution_count": 2,
   "metadata": {},
   "outputs": [],
   "source": [
    "from matplotlib import pyplot as plt\n",
    "import cv2\n",
    "import numpy as np\n",
    "import tensorflow as tf\n",
    "tf.compat.v1.logging.set_verbosity(tf.compat.v1.logging.ERROR)  # will suppress all warnings\n",
    "import neuralgym as ng\n",
    "\n",
    "from engine.deepfillv1.inpaint_model import InpaintCAModel\n",
    "from engine.deepfillv1.inpaint_ops import flow_to_image_tf\n",
    "\n",
    "from engine.utils import Namespace\n",
    "from engine.utils import get_colormap_image"
   ]
  },
  {
   "cell_type": "code",
   "execution_count": 3,
   "metadata": {},
   "outputs": [
    {
     "name": "stdout",
     "output_type": "stream",
     "text": [
      "# gpu        pid  type    sm   mem   enc   dec   command\n",
      "# Idx          #   C/G     %     %     %     %   name\n",
      "    0          -     -     -     -     -     -   -              \n",
      "    1          -     -     -     -     -     -   -              \n",
      "    2          -     -     -     -     -     -   -              \n",
      "    3          -     -     -     -     -     -   -              \n",
      "    4          -     -     -     -     -     -   -              \n",
      "    5          -     -     -     -     -     -   -              \n",
      "    6          -     -     -     -     -     -   -              \n",
      "    7          -     -     -     -     -     -   -              \n",
      "\n",
      "Set env: CUDA_VISIBLE_DEVICES=[0].\n"
     ]
    },
    {
     "data": {
      "text/plain": [
       "[0]"
      ]
     },
     "execution_count": 3,
     "metadata": {},
     "output_type": "execute_result"
    }
   ],
   "source": [
    "prefix = 'engine/testfiles'\n",
    "args = Namespace(image = 'engine/input_image.png',\n",
    "                 mask = 'engine/input_mask.png',\n",
    "                 output =  prefix + '/output.png',\n",
    "                 output_mask = prefix + '/output_mask.png',\n",
    "                 output_coarse =  prefix + 'output_coarse.png',\n",
    "                 output_fine =  prefix + '/output_fine.png',\n",
    "                 output_flow =  prefix + '/output_flow.png',\n",
    "                 output_modulated =  prefix + '/output_modulated.png',\n",
    "                 flow_modulated =  prefix + '/output_flow_modulated.png',\n",
    "                 checkpoint_dir = 'engine/deepfillv1/model_logs')\n",
    "ng.get_gpus(1)"
   ]
  },
  {
   "cell_type": "code",
   "execution_count": 4,
   "metadata": {},
   "outputs": [
    {
     "name": "stdout",
     "output_type": "stream",
     "text": [
      "Shape of image: (296, 544, 3)\n",
      "Shape of mask: (296, 544, 3)\n",
      "Shape of downsampled mask: (37, 68, 3)\n",
      "Shape of restored mask: (296, 544, 3)\n",
      "Shape of model input: (1, 296, 1088, 3)\n"
     ]
    },
    {
     "data": {
      "image/png": "[encoded data removed]",
      "text/plain": [
       "<Figure size 1440x720 with 3 Axes>"
      ]
     },
     "metadata": {
      "needs_background": "light"
     },
     "output_type": "display_data"
    }
   ],
   "source": [
    "model = InpaintCAModel()\n",
    "image = cv2.imread(args.image)\n",
    "mask0 = cv2.imread(args.mask)\n",
    "\n",
    "assert image.shape == mask0.shape\n",
    "h0, w0, _ = image.shape\n",
    "grid = 8\n",
    "image = image[:h0//grid*grid, :w0//grid*grid, :]\n",
    "mask0 = mask0[:h0//grid*grid, :w0//grid*grid, :]\n",
    "h, w, _ = image.shape\n",
    "print('Shape of image: {}'.format(image.shape))\n",
    "print('Shape of mask: {}'.format(mask0.shape))\n",
    "\n",
    "# quantize mask\n",
    "dratio = 8\n",
    "dw, dh = w // dratio, h // dratio\n",
    "mask_downsampled = cv2.resize(mask0, dsize=(dw, dh), interpolation=cv2.INTER_NEAREST)\n",
    "mask = cv2.resize(mask_downsampled, dsize=(w, h), interpolation=cv2.INTER_NEAREST)\n",
    "print('Shape of downsampled mask: {}'.format(mask_downsampled.shape))\n",
    "print('Shape of restored mask: {}'.format(mask.shape))\n",
    "cv2.imwrite(args.output_mask, mask[:, :, ::-1])\n",
    "\n",
    "image = np.expand_dims(image, 0)\n",
    "mask = np.expand_dims(mask, 0)\n",
    "input_image = np.concatenate([image, mask], axis=2)\n",
    "print('Shape of model input: {}'.format(input_image.shape))\n",
    "\n",
    "fig = plt.figure(figsize=(20, 10))\n",
    "ax = fig.add_subplot(221)\n",
    "plt.imshow(mask0.astype(np.float) / 255)\n",
    "ax.set_aspect('equal')\n",
    "ax = fig.add_subplot(222)\n",
    "plt.imshow(mask[0].astype(np.float) / 255)\n",
    "ax.set_aspect('equal')\n",
    "ax = fig.add_subplot(212)\n",
    "err = (mask0 - mask[0]).astype(np.float) / 255\n",
    "err = (err ** 2).sum(-1) ** 0.5\n",
    "plt.imshow(err)\n",
    "ax.set_aspect('equal')"
   ]
  },
  {
   "cell_type": "code",
   "execution_count": 5,
   "metadata": {},
   "outputs": [
    {
     "name": "stdout",
     "output_type": "stream",
     "text": [
      "Called: build_server_graph()\n",
      "Shape of masked images: (1, 296, 544, 3)\n",
      "Shape of masks: (1, 296, 544, 1)\n",
      "Called: build_inpaint_net()\n",
      "Shape of first-stage input: (1, 296, 544, 5)\n",
      "Shape of first-stage output: (1, 296, 544, 3)\n",
      "Shape of second-stage input: (1, 296, 544, 3)\n",
      "Shape of second-stage conv branch output: (1, 74, 136, 128)\n",
      "Shape of contextual attention input: (TensorShape([Dimension(1), Dimension(74), Dimension(136), Dimension(128)]), TensorShape([Dimension(1), Dimension(74), Dimension(136), Dimension(1)]))\n",
      "Called: contextual_attention()\n",
      "Shape of foreground features: (1, 74, 136, 128)\n",
      "Shape of background features: (1, 74, 136, 128)\n",
      "Shape of masks: (1, 74, 136, 1)\n",
      "Shape of background patches (raw_w): (1, 4, 4, 128, 2516)\n",
      "Shape of resized foreground features: (1, 37, 68, 128)\n",
      "Shape of resized background features: (1, 37, 68, 128)\n",
      "Shape of resized masks: (1, 37, 68, 1)\n",
      "Shape of downscaled background patches (w): (1, 37, 68, 1152) (ksize 3, stride 1)\n",
      "Shape of downscaled background patches (w): (1, 3, 3, 128, 2516)\n",
      "Shape of mask patches: (1, 1, 1, 2516)\n",
      "[1/1]: Shapes fg (1, 37, 68, 128), bg (1, 3, 3, 128, 2516)/(1, 4, 4, 128, 2516)\n",
      "Predict attention\n",
      "[1/1]: Shape of convolved features (1, 37, 68, 2516)\n",
      "[1/1]: Shape of attention coefficients (1, 74, 136, 128)\n",
      "[1/1]: Shape of patch features (1, 4, 4, 128, 2516)\n",
      "[1/1]: Shape of patch center features (4, 4, 128, 2516)\n",
      "[1/1]: Shape of attended features (1, 74, 136, 128)\n",
      "Shape of contextual attention output: (1, 74, 136, 128)\n",
      "Shape of second-stage att branch output: (1, 74, 136, 128)\n",
      "Shape of second-stage output: (1, 296, 544, 3)\n",
      "Shape of coarse output: (1, 296, 544, 3)\n",
      "Shape of fine output: (1, 296, 544, 3)\n",
      "Shape of attention values: (1, 37, 68, 2516)\n",
      "Shape of attention colormap: (1, 296, 544, 3)\n",
      "Model loaded.\n",
      "Shape of model output: (1, 296, 2176, 3)\n",
      "Done\n"
     ]
    }
   ],
   "source": [
    "sess_config = tf.ConfigProto()\n",
    "sess_config.gpu_options.allow_growth = True\n",
    "with tf.Session(config=sess_config) as sess:\n",
    "    input_image = tf.constant(input_image, dtype=tf.float32)\n",
    "    output, attention = model.build_server_graph(input_image)\n",
    "    output = (output + 1.) * 127.5\n",
    "    output = tf.reverse(output, [-1])\n",
    "    output = tf.saturate_cast(output, tf.uint8)\n",
    "    # load pretrained model\n",
    "    vars_list = tf.get_collection(tf.GraphKeys.GLOBAL_VARIABLES)\n",
    "    assign_ops = []\n",
    "    for var in vars_list:\n",
    "        vname = var.name\n",
    "        from_name = vname\n",
    "        var_value = tf.contrib.framework.load_variable(args.checkpoint_dir, from_name)\n",
    "        assign_ops.append(tf.assign(var, var_value))\n",
    "    sess.run(assign_ops)\n",
    "    print('Model loaded.')\n",
    "    result = sess.run(output)\n",
    "    print('Shape of model output: {}'.format(result.shape))\n",
    "    \n",
    "    result = np.array(result)\n",
    "    result, coarse, fine, flow = np.split(result, 4, axis=2)\n",
    "    cv2.imwrite(args.output, result[0][:, :, ::-1])\n",
    "    cv2.imwrite(args.output_coarse, coarse[0][:, :, ::-1])\n",
    "    cv2.imwrite(args.output_fine, fine[0][:, :, ::-1])\n",
    "    cv2.imwrite(args.output_flow, flow[0][:, :, ::-1])\n",
    "\n",
    "    attention = sess.run(attention)\n",
    "    \n",
    "print('Done')"
   ]
  },
  {
   "cell_type": "code",
   "execution_count": 21,
   "metadata": {},
   "outputs": [
    {
     "data": {
      "text/plain": [
       "True"
      ]
     },
     "execution_count": 21,
     "metadata": {},
     "output_type": "execute_result"
    },
    {
     "data": {
      "image/png": "[encoded data removed]",
      "text/plain": [
       "<Figure size 1440x1440 with 1 Axes>"
      ]
     },
     "metadata": {
      "needs_background": "light"
     },
     "output_type": "display_data"
    }
   ],
   "source": [
    "attention = np.array(attention)\n",
    "bs, height, width, hw = attention.shape\n",
    "assert height * width == hw\n",
    "att_reshaped = np.reshape(attention, [bs, height, width, height, width])\n",
    "att_mask = cv2.resize(mask[0][..., -1], dsize=(width, height), interpolation=cv2.INTER_NEAREST)\n",
    "hidx, widx = np.nonzero(att_mask)\n",
    "hpos, wpos = hidx[100], widx[100]\n",
    "\n",
    "# mask and show maximum\n",
    "att_img = att_reshaped[0][hpos, wpos]\n",
    "att_img = att_img * (1 - att_mask.astype(np.int32))\n",
    "att_img = (att_img / att_img.max() * 255).astype(np.uint8)\n",
    "# overlay mask\n",
    "att_img = att_img * (1 - att_mask) + 200 * att_mask\n",
    "# cast to RGB\n",
    "att_img = np.tile(np.reshape(att_img, [height, width, 1]), [1, 1, 3])\n",
    "# crosshair\n",
    "att_img[hpos, wpos-1:wpos+2, 0] = 255\n",
    "att_img[hpos-1:hpos+2, wpos, 0] = 255\n",
    "att_img[0, :, :] = 255\n",
    "att_img[-1, :, :] = 255\n",
    "att_img[:, 0, :] = 255\n",
    "att_img[:, -1, :] = 255\n",
    "# show\n",
    "fig = plt.figure(figsize=(20, 20))\n",
    "ax = fig.add_subplot(111)\n",
    "plt.imshow(att_img.astype(np.float) / 255)\n",
    "ax.set_aspect('equal')\n",
    "cv2.imwrite('test_attention.jpg', att_img[:, :, ::-1])"
   ]
  },
  {
   "cell_type": "code",
   "execution_count": null,
   "metadata": {},
   "outputs": [],
   "source": []
  }
 ],
 "metadata": {
  "kernelspec": {
   "display_name": "Python 3",
   "language": "python",
   "name": "python3"
  },
  "language_info": {
   "codemirror_mode": {
    "name": "ipython",
    "version": 3
   },
   "file_extension": ".py",
   "mimetype": "text/x-python",
   "name": "python",
   "nbconvert_exporter": "python",
   "pygments_lexer": "ipython3",
   "version": "3.6.9"
  }
 },
 "nbformat": 4,
 "nbformat_minor": 4
}
