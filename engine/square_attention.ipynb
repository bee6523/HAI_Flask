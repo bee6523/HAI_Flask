{
 "cells": [
  {
   "cell_type": "markdown",
   "metadata": {},
   "source": [
    "## DeepFillv1 experiment"
   ]
  },
  {
   "cell_type": "code",
   "execution_count": 1,
   "metadata": {},
   "outputs": [],
   "source": [
    "from matplotlib import pyplot as plt\n",
    "import cv2\n",
    "import numpy as np\n",
    "import tensorflow as tf\n",
    "tf.compat.v1.logging.set_verbosity(tf.compat.v1.logging.ERROR)  # will suppress all warnings\n",
    "import neuralgym as ng\n",
    "\n",
    "from deepfillv1.inpaint_model import InpaintCAModel\n",
    "from deepfillv1.inpaint_ops import flow_to_image_tf\n",
    "\n",
    "from utils import Namespace\n",
    "from utils import get_colormap_image"
   ]
  },
  {
   "cell_type": "code",
   "execution_count": 2,
   "metadata": {},
   "outputs": [],
   "source": [
    "w, h = 170, 128\n",
    "w_resize, h_resize = w * 4, h * 4\n",
    "\n",
    "sess_config = tf.ConfigProto()\n",
    "sess_config.gpu_options.allow_growth = True\n",
    "with tf.Session(config=sess_config) as sess:\n",
    "    colormap = get_colormap_image(w, h, w_resize, h_resize)\n",
    "    colormap = (colormap + 1.) * 127.5\n",
    "    colormap = tf.reverse(colormap, [-1])\n",
    "    colormap = tf.saturate_cast(colormap, tf.uint8)\n",
    "    colormap = sess.run(colormap)\n",
    "    colormap = np.array(colormap)\n",
    "    cv2.imwrite('colorpalette.jpg', colormap[0][:, :, ::-1])"
   ]
  },
  {
   "cell_type": "code",
   "execution_count": 3,
   "metadata": {},
   "outputs": [
    {
     "name": "stdout",
     "output_type": "stream",
     "text": [
      "    0          -     -     -     -     -     -   -              \n",
      "    1          -     -     -     -     -     -   -              \n",
      "    2          -     -     -     -     -     -   -              \n",
      "    3          -     -     -     -     -     -   -              \n",
      "    4          -     -     -     -     -     -   -              \n",
      "    5          -     -     -     -     -     -   -              \n",
      "    6          -     -     -     -     -     -   -              \n",
      "    7          -     -     -     -     -     -   -              \n",
      "\n",
      "Set env: CUDA_VISIBLE_DEVICES=[2].\n"
     ]
    },
    {
     "data": {
      "text/plain": [
       "[2]"
      ]
     },
     "execution_count": 3,
     "metadata": {},
     "output_type": "execute_result"
    }
   ],
   "source": [
    "args = Namespace(image = f'deepfillv1/examples/places2/sunset_input.png',\n",
    "                 mask = f'deepfillv1/examples/places2/sunset_mask.png',\n",
    "                 flow = f'./flow.png',\n",
    "                 output = f'./output.png',\n",
    "                 output_coarse = f'./output_coarse.png',\n",
    "                 output_fine = f'./output_fine.png',\n",
    "                 output_flow = f'./output_flow.png',\n",
    "                 output_modulated = f'./output_modulated.png',\n",
    "                 flow_modulated = f'./output_flow_modulated.png',\n",
    "                 checkpoint_dir = f'deepfillv1/model_logs')\n",
    "\n",
    "ng.get_gpus(1)"
   ]
  },
  {
   "cell_type": "markdown",
   "metadata": {},
   "source": [
    "# Attention output test"
   ]
  },
  {
   "cell_type": "code",
   "execution_count": 4,
   "metadata": {},
   "outputs": [
    {
     "name": "stdout",
     "output_type": "stream",
     "text": [
      "Shape of image: (512, 680, 3)\n",
      "Shape of model input: (1, 512, 1360, 3)\n"
     ]
    }
   ],
   "source": [
    "model = InpaintCAModel()\n",
    "image = cv2.imread(args.image)\n",
    "mask = cv2.imread(args.mask)\n",
    "\n",
    "assert image.shape == mask.shape\n",
    "\n",
    "h, w, _ = image.shape\n",
    "grid = 8\n",
    "image = image[:h//grid*grid, :w//grid*grid, :]\n",
    "mask = mask[:h//grid*grid, :w//grid*grid, :]\n",
    "print('Shape of image: {}'.format(image.shape))\n",
    "\n",
    "image = np.expand_dims(image, 0)\n",
    "mask = np.expand_dims(mask, 0)\n",
    "input_image = np.concatenate([image, mask], axis=2)\n",
    "\n",
    "print('Shape of model input: {}'.format(input_image.shape))"
   ]
  },
  {
   "cell_type": "code",
   "execution_count": 5,
   "metadata": {},
   "outputs": [
    {
     "name": "stdout",
     "output_type": "stream",
     "text": [
      "Called: build_server_graph()\n",
      "Shape of masked images: (1, 512, 680, 3)\n",
      "Shape of masks: (1, 512, 680, 1)\n",
      "Called: build_inpaint_net()\n",
      "Shape of first-stage input: (1, 512, 680, 5)\n",
      "Shape of first-stage output: (1, 512, 680, 3)\n",
      "Shape of second-stage input: (1, 512, 680, 3)\n",
      "Shape of second-stage conv branch output: (1, 128, 170, 128)\n",
      "Shape of contextual attention input: (TensorShape([Dimension(1), Dimension(128), Dimension(170), Dimension(128)]), TensorShape([Dimension(1), Dimension(128), Dimension(170), Dimension(1)]))\n",
      "Called: contextual_attention()\n",
      "Shape of foreground features: (1, 128, 170, 128)\n",
      "Shape of background features: (1, 128, 170, 128)\n",
      "Shape of masks: (1, 128, 170, 1)\n",
      "Shape of background patches (raw_w): (1, 4, 4, 128, 5440)\n",
      "Shape of resized foreground features: (1, 64, 85, 128)\n",
      "Shape of resized background features: (1, 64, 85, 128)\n",
      "Shape of resized masks: (1, 64, 85, 1)\n",
      "Shape of downscaled background patches (w): (1, 64, 85, 1152) (ksize 3, stride 1)\n",
      "Shape of downscaled background patches (w): (1, 3, 3, 128, 5440)\n",
      "Shape of mask patches: (1, 1, 1, 5440)\n",
      "[1/1]: Shapes fg (1, 64, 85, 128), bg (1, 3, 3, 128, 5440)/(1, 4, 4, 128, 5440)\n",
      "[1/1]: Shape of convolved features (1, 64, 85, 5440)\n",
      "Predict attention\n",
      "[1/1]: Shape of attention coefficients (1, 128, 170, 128)\n",
      "[1/1]: Shape of patch features (1, 4, 4, 128, 5440)\n",
      "[1/1]: Shape of patch center features (4, 4, 128, 5440)\n",
      "[1/1]: Shape of attended features (1, 128, 170, 128)\n",
      "Shape of contextual attention output: (1, 128, 170, 128)\n",
      "Shape of second-stage att branch output: (1, 128, 170, 128)\n",
      "Shape of second-stage output: (1, 512, 680, 3)\n",
      "Shape of coarse output: (1, 512, 680, 3)\n",
      "Shape of fine output: (1, 512, 680, 3)\n",
      "Shape of attention values: (1, 64, 85, 5440)\n",
      "Shape of attention colormap: (1, 512, 680, 3)\n",
      "Model loaded.\n",
      "Shape of model output: (1, 512, 2720, 3)\n",
      "Done\n"
     ]
    }
   ],
   "source": [
    "sess_config = tf.ConfigProto()\n",
    "sess_config.gpu_options.allow_growth = True\n",
    "with tf.Session(config=sess_config) as sess:\n",
    "    input_image = tf.constant(input_image, dtype=tf.float32)\n",
    "    output, attention = model.build_server_graph(input_image)\n",
    "    output = (output + 1.) * 127.5\n",
    "    output = tf.reverse(output, [-1])\n",
    "    output = tf.saturate_cast(output, tf.uint8)\n",
    "    # load pretrained model\n",
    "    vars_list = tf.get_collection(tf.GraphKeys.GLOBAL_VARIABLES)\n",
    "    assign_ops = []\n",
    "    for var in vars_list:\n",
    "        vname = var.name\n",
    "        from_name = vname\n",
    "        var_value = tf.contrib.framework.load_variable(args.checkpoint_dir, from_name)\n",
    "        assign_ops.append(tf.assign(var, var_value))\n",
    "    sess.run(assign_ops)\n",
    "    print('Model loaded.')\n",
    "    result = sess.run(output)\n",
    "    print('Shape of model output: {}'.format(result.shape))\n",
    "    \n",
    "    result = np.array(result)\n",
    "    result, coarse, fine, flow = np.split(result, 4, axis=2)\n",
    "    cv2.imwrite(args.output, result[0][:, :, ::-1])\n",
    "    cv2.imwrite(args.output_coarse, coarse[0][:, :, ::-1])\n",
    "    cv2.imwrite(args.output_fine, fine[0][:, :, ::-1])\n",
    "    cv2.imwrite(args.output_flow, flow[0][:, :, ::-1])\n",
    "    \n",
    "    attention = sess.run(attention)\n",
    "    \n",
    "print('Done')"
   ]
  },
  {
   "cell_type": "code",
   "execution_count": 6,
   "metadata": {},
   "outputs": [],
   "source": [
    "attention = np.array(attention)\n",
    "bs, height, width, hw = attention.shape\n",
    "assert height * width == hw\n",
    "att_reshaped = np.reshape(attention, [bs, height, width, height, width])\n",
    "att_mask = cv2.resize(mask[0][..., -1], dsize=(width, height), interpolation=cv2.INTER_NEAREST)"
   ]
  },
  {
   "cell_type": "code",
   "execution_count": 7,
   "metadata": {},
   "outputs": [
    {
     "name": "stdout",
     "output_type": "stream",
     "text": [
      "64 85\n"
     ]
    }
   ],
   "source": [
    "idx = 10\n",
    "hidx, widx = np.nonzero(att_mask)\n",
    "hpos, wpos = hidx[idx], widx[idx]\n",
    "print(height, width)"
   ]
  },
  {
   "cell_type": "code",
   "execution_count": 8,
   "metadata": {},
   "outputs": [
    {
     "data": {
      "text/plain": [
       "True"
      ]
     },
     "execution_count": 8,
     "metadata": {},
     "output_type": "execute_result"
    },
    {
     "data": {
      "image/png": "[encoded data removed]",
      "text/plain": [
       "<Figure size 432x288 with 1 Axes>"
      ]
     },
     "metadata": {
      "needs_background": "light"
     },
     "output_type": "display_data"
    }
   ],
   "source": [
    "att_img = att_reshaped[0][hpos, wpos]\n",
    "\n",
    "# mask and show maximum\n",
    "att_img = att_img * (1 - att_mask.astype(np.int32))\n",
    "att_img = (att_img / att_img.max() * 255).astype(np.uint8)\n",
    "\n",
    "# overlay mask\n",
    "att_img = att_img * (1 - att_mask) + 200 * att_mask\n",
    "\n",
    "# cast to RGB\n",
    "att_img = np.tile(np.reshape(att_img, [height, width, 1]), [1, 1, 3])\n",
    "\n",
    "# crosshair\n",
    "att_img[hpos, wpos-1:wpos+2, 0] = 255\n",
    "att_img[hpos-1:hpos+2, wpos, 0] = 255\n",
    "att_img[0, :, :] = 255\n",
    "att_img[-1, :, :] = 255\n",
    "att_img[:, 0, :] = 255\n",
    "att_img[:, -1, :] = 255\n",
    "\n",
    "# show\n",
    "fig = plt.figure()\n",
    "ax = fig.add_subplot(111)\n",
    "plt.imshow(att_img.astype(np.float) / 255)\n",
    "ax.set_aspect('equal')\n",
    "\n",
    "cv2.imwrite('test_attention.jpg', att_img[:, :, ::-1])"
   ]
  },
  {
   "cell_type": "markdown",
   "metadata": {},
   "source": [
    "# Attention input test"
   ]
  },
  {
   "cell_type": "code",
   "execution_count": 4,
   "metadata": {},
   "outputs": [
    {
     "name": "stdout",
     "output_type": "stream",
     "text": [
      "Shape of image: (512, 680, 3)\n",
      "Shape of model input: (1, 512, 1360, 3)\n",
      "Shape of flow input: (1, 512, 680, 3)\n"
     ]
    }
   ],
   "source": [
    "model = InpaintCAModel()\n",
    "image = cv2.imread(args.image)\n",
    "mask = cv2.imread(args.mask)\n",
    "flow = cv2.imread(args.flow)\n",
    "\n",
    "assert image.shape == mask.shape == flow.shape\n",
    "\n",
    "h, w, _ = image.shape\n",
    "grid = 8\n",
    "image = image[:h//grid*grid, :w//grid*grid, :]\n",
    "mask = mask[:h//grid*grid, :w//grid*grid, :]\n",
    "print('Shape of image: {}'.format(image.shape))\n",
    "\n",
    "image = np.expand_dims(image, 0)\n",
    "mask = np.expand_dims(mask, 0)\n",
    "input_image = np.concatenate([image, mask], axis=2)\n",
    "print('Shape of model input: {}'.format(input_image.shape))\n",
    "\n",
    "flow = flow[:h//grid*grid, :w//grid*grid, :]\n",
    "input_flow = np.expand_dims(flow, 0)\n",
    "print('Shape of flow input: {}'.format(input_flow.shape))"
   ]
  },
  {
   "cell_type": "code",
   "execution_count": 5,
   "metadata": {},
   "outputs": [
    {
     "name": "stdout",
     "output_type": "stream",
     "text": [
      "512 680 64 85\n"
     ]
    },
    {
     "data": {
      "image/png": "[encoded data removed]",
      "text/plain": [
       "<Figure size 432x288 with 3 Axes>"
      ]
     },
     "metadata": {
      "needs_background": "light"
     },
     "output_type": "display_data"
    }
   ],
   "source": [
    "# convert colormap to attention coefficients\n",
    "dratio = 8\n",
    "dw, dh = w//dratio, h//dratio\n",
    "print(h, w, dh, dw)\n",
    "mask_downsampled = cv2.resize(mask[0][..., -1], dsize=(dw, dh), interpolation=cv2.INTER_NEAREST)\n",
    "flow_downsampled = cv2.resize(input_flow[0], dsize=(dw, dh), interpolation=cv2.INTER_NEAREST)\n",
    "\n",
    "sess_config = tf.ConfigProto()\n",
    "sess_config.gpu_options.allow_growth = True\n",
    "with tf.Session(config=sess_config) as sess:\n",
    "    colormap = get_colormap_image(dw, dh, dw, dh)\n",
    "    colormap = (colormap + 1.) * 127.5\n",
    "    colormap = tf.reverse(colormap, [-1])\n",
    "    colormap = tf.saturate_cast(colormap, tf.uint8)\n",
    "    colormap = sess.run(colormap)\n",
    "    colormap = np.array(colormap)\n",
    "\n",
    "fig = plt.figure()\n",
    "ax = fig.add_subplot(131)\n",
    "plt.imshow(mask_downsampled.astype(np.float) / 255)\n",
    "ax.set_aspect('equal')\n",
    "ax = fig.add_subplot(132)\n",
    "plt.imshow(flow_downsampled[:, :, ::-1].astype(np.float) / 255)\n",
    "ax.set_aspect('equal')\n",
    "ax = fig.add_subplot(133)\n",
    "plt.imshow(colormap[0].astype(np.float) / 255)\n",
    "ax.set_aspect('equal')"
   ]
  },
  {
   "cell_type": "code",
   "execution_count": 6,
   "metadata": {},
   "outputs": [
    {
     "name": "stdout",
     "output_type": "stream",
     "text": [
      "[2762 2762 2762 ... 2762 2762 2762]\n",
      "Shape of attention input: (1, 64, 85, 5440)\n"
     ]
    },
    {
     "data": {
      "image/png": "[encoded data removed]",
      "text/plain": [
       "<Figure size 432x288 with 1 Axes>"
      ]
     },
     "metadata": {
      "needs_background": "light"
     },
     "output_type": "display_data"
    }
   ],
   "source": [
    "def reverse_map(flow, cmap):\n",
    "    assert flow.shape == cmap.shape\n",
    "    h, w, _ = flow.shape\n",
    "    # for each flow pixel, find nearest neighbor position in cmap\n",
    "    flow_tiled = np.tile(np.reshape(flow, [h, w, 1, 1, 3]), [1, 1, h, w, 1]) / 255\n",
    "    cmap_tiled = np.tile(np.reshape(cmap, [1, 1, h, w, 3]), [h, w, 1, 1, 1]) / 255\n",
    "    dist = ((cmap_tiled - flow_tiled) ** 2).sum(-1)\n",
    "    dist = np.reshape(dist, [h * w, h * w])\n",
    "    idx = np.argmax(-dist, axis=-1)\n",
    "    \n",
    "    print(idx)\n",
    "    \n",
    "    # convert to one-hot attention\n",
    "    att_values = np.zeros((h * w, h * w)).astype(np.float32)\n",
    "    att_values[np.arange(h * w), idx] = 1.\n",
    "    att_values = np.reshape(att_values, [h, w, h * w])\n",
    "\n",
    "    return att_values\n",
    "\n",
    "input_att = np.expand_dims(reverse_map(flow_downsampled[:, :, ::-1], colormap[0]), 0)\n",
    "print(f'Shape of attention input: {input_att.shape}')\n",
    "\n",
    "fig = plt.figure()\n",
    "ax = fig.add_subplot(111)\n",
    "idximg = np.argmax(input_att, axis=-1)\n",
    "plt.imshow(idximg[0] / idximg.max())\n",
    "ax.set_aspect('equal')"
   ]
  },
  {
   "cell_type": "code",
   "execution_count": 7,
   "metadata": {},
   "outputs": [
    {
     "data": {
      "image/png": "[encoded data removed]",
      "text/plain": [
       "<Figure size 432x288 with 1 Axes>"
      ]
     },
     "metadata": {
      "needs_background": "light"
     },
     "output_type": "display_data"
    }
   ],
   "source": [
    "# artificial attention\n",
    "noise_ratio = 0\n",
    "\n",
    "sess_config = tf.ConfigProto()\n",
    "sess_config.gpu_options.allow_growth = True\n",
    "with tf.Session(config=sess_config) as sess:\n",
    "    mm = tf.reshape(tf.cast(mask_downsampled, tf.float32), [1, dh, dw, 1])\n",
    "    \n",
    "    artificial_att = tf.random.normal((1, dh, dw, input_att.shape[-1])) ** 2\n",
    "    artificial_att /= tf.reduce_sum(artificial_att, -1, keepdims=True)\n",
    "    \n",
    "    masked_noise = mm * artificial_att\n",
    "    masked_input = mm * tf.constant(input_att, tf.float32)\n",
    "    masked = masked_noise * noise_ratio + masked_input * (1 - noise_ratio)\n",
    "    intact = tf.constant(input_att, tf.float32) * (1 - mm)\n",
    "    \n",
    "    artificial_att = masked + intact\n",
    "    artificial_att = sess.run(artificial_att)\n",
    "    artificial_att = np.array(artificial_att)\n",
    "\n",
    "fig = plt.figure()\n",
    "ax = fig.add_subplot(111)\n",
    "idximg = np.argmax(artificial_att, axis=-1)\n",
    "plt.imshow(idximg[0] / idximg.max())\n",
    "ax.set_aspect('equal')"
   ]
  },
  {
   "cell_type": "code",
   "execution_count": 8,
   "metadata": {},
   "outputs": [],
   "source": [
    "input_att = artificial_att"
   ]
  },
  {
   "cell_type": "code",
   "execution_count": 9,
   "metadata": {},
   "outputs": [
    {
     "name": "stdout",
     "output_type": "stream",
     "text": [
      "[[2762 2762 2762 ... 2762 2762 2762]\n",
      " [2762 2762 2762 ... 2762 2762 2762]\n",
      " [2762 2762 2762 ... 2762 2762 2762]\n",
      " ...\n",
      " [2762 2762 2762 ... 2762 2762 2762]\n",
      " [2762 2762 2762 ... 2762 2762 2762]\n",
      " [2762 2762 2762 ... 2762 2762 2762]]\n",
      "(1, 64, 85, 3)\n"
     ]
    }
   ],
   "source": [
    "offset = np.argmax(input_att[0], axis=-1).astype(np.int32)\n",
    "print(offset)\n",
    "tmp_h, tmp_w = input_att.shape[1], input_att.shape[2]\n",
    "offset = np.stack([offset // tmp_w, offset % tmp_w], axis=-1)\n",
    "offset = np.expand_dims(offset, 0)\n",
    "h_add = np.tile(np.reshape(np.arange(tmp_h), [1, tmp_h, 1, 1]), [1, 1, tmp_w, 1])\n",
    "w_add = np.tile(np.reshape(np.arange(tmp_w), [1, 1, tmp_w, 1]), [1, tmp_h, 1, 1])\n",
    "h_ctr = np.ones((1, tmp_h, tmp_w, 1)).astype(np.int32) * tmp_h // 2\n",
    "w_ctr = np.ones((1, tmp_h, tmp_w, 1)).astype(np.int32) * tmp_w // 2\n",
    "offset = offset - np.concatenate([h_ctr, w_ctr], axis=3)\n",
    "offset = offset * np.expand_dims(mask_downsampled, (0, -1)).astype(np.int32)\n",
    "# to flow image\n",
    "sess_config = tf.ConfigProto()\n",
    "sess_config.gpu_options.allow_growth = True\n",
    "with tf.Session(config=sess_config) as sess:\n",
    "    offset = tf.constant(offset, dtype=tf.float32)\n",
    "    flow = flow_to_image_tf(offset)\n",
    "    flow = (flow + 1.) * 127.5\n",
    "    flow = tf.reverse(flow, [-1])\n",
    "    flow = tf.saturate_cast(flow, tf.uint8)\n",
    "    flow = sess.run(flow)\n",
    "    flow = np.array(flow)\n",
    "print(flow.shape)"
   ]
  },
  {
   "cell_type": "code",
   "execution_count": 10,
   "metadata": {},
   "outputs": [
    {
     "data": {
      "image/png": "[encoded data removed]",
      "text/plain": [
       "<Figure size 432x288 with 4 Axes>"
      ]
     },
     "metadata": {
      "needs_background": "light"
     },
     "output_type": "display_data"
    }
   ],
   "source": [
    "fig = plt.figure()\n",
    "ax = fig.add_subplot(221)\n",
    "plt.imshow(mask_downsampled.astype(np.float) / 255)\n",
    "ax.set_aspect('equal')\n",
    "ax = fig.add_subplot(222)\n",
    "plt.imshow(flow_downsampled[:, :, ::-1].astype(np.float) / 255)\n",
    "ax.set_aspect('equal')\n",
    "ax = fig.add_subplot(223)\n",
    "plt.imshow(colormap[0].astype(np.float) / 255)\n",
    "ax.set_aspect('equal')\n",
    "ax = fig.add_subplot(224)\n",
    "plt.imshow(flow[0].astype(np.float) / 255)\n",
    "ax.set_aspect('equal')"
   ]
  },
  {
   "cell_type": "code",
   "execution_count": 11,
   "metadata": {},
   "outputs": [
    {
     "name": "stdout",
     "output_type": "stream",
     "text": [
      "Called: build_server_graph()\n",
      "Shape of masked images: (1, 512, 680, 3)\n",
      "Shape of masks: (1, 512, 680, 1)\n",
      "Shape of attention values: (1, 64, 85, 5440)\n",
      "Called: build_inpaint_net()\n",
      "Shape of first-stage input: (1, 512, 680, 5)\n",
      "Shape of first-stage output: (1, 512, 680, 3)\n",
      "Shape of second-stage input: (1, 512, 680, 3)\n",
      "Shape of second-stage conv branch output: (1, 128, 170, 128)\n",
      "Shape of contextual attention input: (TensorShape([Dimension(1), Dimension(128), Dimension(170), Dimension(128)]), TensorShape([Dimension(1), Dimension(128), Dimension(170), Dimension(1)]))\n",
      "Called: contextual_attention()\n",
      "Shape of foreground features: (1, 128, 170, 128)\n",
      "Shape of background features: (1, 128, 170, 128)\n",
      "Shape of masks: (1, 128, 170, 1)\n",
      "Shape of given attention values: (1, 64, 85, 5440)\n",
      "Shape of background patches (raw_w): (1, 4, 4, 128, 5440)\n",
      "Shape of resized foreground features: (1, 64, 85, 128)\n",
      "Shape of resized background features: (1, 64, 85, 128)\n",
      "Shape of resized masks: (1, 64, 85, 1)\n",
      "Shape of downscaled background patches (w): (1, 64, 85, 1152) (ksize 3, stride 1)\n",
      "Shape of downscaled background patches (w): (1, 3, 3, 128, 5440)\n",
      "Shape of mask patches: (1, 1, 1, 5440)\n",
      "[1/1]: Shapes fg (1, 64, 85, 128), bg (1, 3, 3, 128, 5440)/(1, 4, 4, 128, 5440)\n",
      "[1/1]: Shapes fg (1, 64, 85, 128), bg (1, 3, 3, 128, 5440)/(1, 4, 4, 128, 5440), att (1, 64, 85, 5440)\n",
      "[1/1]: Shape of convolved features (1, 64, 85, 5440)\n",
      "Use modulated attention\n",
      "[1/1]: Shape of attention coefficients (1, 64, 85, 5440)\n",
      "[1/1]: Shape of patch features (1, 4, 4, 128, 5440)\n",
      "[1/1]: Shape of patch center features (4, 4, 128, 5440)\n",
      "[1/1]: Shape of attended features (1, 128, 170, 128)\n",
      "Shape of contextual attention output: (1, 128, 170, 128)\n",
      "Shape of second-stage att branch output: (1, 128, 170, 128)\n",
      "Shape of second-stage output: (1, 512, 680, 3)\n",
      "Shape of coarse output: (1, 512, 680, 3)\n",
      "Shape of fine output: (1, 512, 680, 3)\n",
      "Shape of attention values: (1, 64, 85, 5440)\n",
      "Shape of attention colormap: (1, 512, 680, 3)\n",
      "Model loaded.\n",
      "Shape of model output: (1, 512, 2720, 3)\n",
      "Done\n"
     ]
    }
   ],
   "source": [
    "sess_config = tf.ConfigProto()\n",
    "sess_config.gpu_options.allow_growth = True\n",
    "with tf.Session(config=sess_config) as sess:\n",
    "    input_image = tf.constant(input_image, dtype=tf.float32)\n",
    "    input_att = tf.constant(input_att, dtype=tf.float32)\n",
    "    output, attention = model.build_server_graph(input_image, input_att)\n",
    "    output = (output + 1.) * 127.5\n",
    "    output = tf.reverse(output, [-1])\n",
    "    output = tf.saturate_cast(output, tf.uint8)\n",
    "    # load pretrained model\n",
    "    vars_list = tf.get_collection(tf.GraphKeys.GLOBAL_VARIABLES)\n",
    "    assign_ops = []\n",
    "    for var in vars_list:\n",
    "        vname = var.name\n",
    "        from_name = vname\n",
    "        var_value = tf.contrib.framework.load_variable(args.checkpoint_dir, from_name)\n",
    "        assign_ops.append(tf.assign(var, var_value))\n",
    "    sess.run(assign_ops)\n",
    "    print('Model loaded.')\n",
    "    result = sess.run(output)\n",
    "    attention = sess.run(attention)\n",
    "    print('Shape of model output: {}'.format(result.shape))\n",
    "    \n",
    "    result = np.array(result)\n",
    "    result, coarse, fine, flow = np.split(result, 4, axis=2)\n",
    "    cv2.imwrite(args.output_modulated, result[0][:, :, ::-1])\n",
    "    cv2.imwrite(args.flow_modulated, flow[0][:, :, ::-1])\n",
    "    \n",
    "print('Done')"
   ]
  },
  {
   "cell_type": "code",
   "execution_count": null,
   "metadata": {},
   "outputs": [],
   "source": []
  },
  {
   "cell_type": "code",
   "execution_count": null,
   "metadata": {},
   "outputs": [],
   "source": []
  }
 ],
 "metadata": {
  "kernelspec": {
   "display_name": "Python 3",
   "language": "python",
   "name": "python3"
  },
  "language_info": {
   "codemirror_mode": {
    "name": "ipython",
    "version": 3
   },
   "file_extension": ".py",
   "mimetype": "text/x-python",
   "name": "python",
   "nbconvert_exporter": "python",
   "pygments_lexer": "ipython3",
   "version": "3.6.9"
  }
 },
 "nbformat": 4,
 "nbformat_minor": 4
}
